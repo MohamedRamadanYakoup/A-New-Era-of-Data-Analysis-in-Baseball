{
 "cells": [
  {
   "cell_type": "markdown",
   "metadata": {
    "dc": {
     "key": "4"
    },
    "deletable": false,
    "editable": false,
    "run_control": {
     "frozen": true
    },
    "tags": [
     "context"
    ]
   },
   "source": [
    "## 1. The Statcast revolution\n",
    "<p><img style=\"float: left;margin:5px 20px 5px 1px\" src="datasets/judge_wide.jpg"/></p>\n",
    "<p>This is Aaron Judge. Judge is one of the physically largest players in Major League Baseball standing 6 feet 7 inches (2.01 m) tall and weighing 282 pounds (128 kg). He also hit the <a href=\"https://www.mlb.com/news/aaron-judge-sets-statcast-exit-velocity-record/c-235640846\">hardest home run</a> ever recorded. How do we know this? <strong>Statcast</strong>.</p>\n",
    "<p>Statcast is a state-of-the-art tracking system that uses high-resolution cameras and radar equipment to measure the precise location and movement of baseballs and baseball players. Introduced in 2015 to all 30 major league ballparks, Statcast data is revolutionizing the game. Teams are engaging in an \"arms race\" of data analysis, hiring analysts left and right in an attempt to gain an edge over their competition. This <a href=\"https://www.youtube.com/watch?v=9rOKGKhQe8U\">video</a> describing the system is incredible.</p>\n",
    "<p><strong>In this notebook</strong>, we're going to wrangle, analyze, and visualize Statcast data to compare Mr. Judge and another (extremely large) teammate of his. Let's start by loading the data into our Notebook. There are two CSV files, <code>judge.csv</code> and <code>stanton.csv</code>, both of which contain Statcast data for 2015-2017. We'll use pandas DataFrames to store this data. Let's also load our data visualization libraries, matplotlib and seaborn.</p>"
   ]
  },
  {
   "cell_type": "code",
   "execution_count": 1,
   "metadata": {
    "dc": {
     "key": "4"
    },
    "tags": [
     "sample_code"
    ]
   },
   "outputs": [],
   "source": [
    "import pandas as pd\n",
    "import matplotlib.pyplot as plt\n",
    "import seaborn as sns\n",
    "%matplotlib inline\n",
    "\n",
    "# Load Aaron Judge's Statcast data\n",
    "judge = pd.read_csv('datasets/judge.csv')\n",
    "\n",
    "# Load Giancarlo Stanton's Statcast data\n",
    "stanton = pd.read_csv('datasets/stanton.csv')"
   ]
  },
  {
   "cell_type": "markdown",
   "metadata": {
    "dc": {
     "key": "11"
    },
    "deletable": false,
    "editable": false,
    "run_control": {
     "frozen": true
    },
    "tags": [
     "context"
    ]
   },
   "source": [
    "## 2. What can Statcast measure?\n",
    "<p>The better question might be, what can't Statcast measure?</p>\n",
    "<blockquote>\n",
    "  <p>Starting with the pitcher, Statcast can measure simple data points such as velocity. At the same time, Statcast digs a whole lot deeper, also measuring the release point and spin rate of every pitch.</p>\n",
    "  <p>Moving on to hitters, Statcast is capable of measuring the exit velocity, launch angle and vector of the ball as it comes off the bat. From there, Statcast can also track the hang time and projected distance that a ball travels.</p>\n",
    "</blockquote>\n",
    "<p>Let's inspect the last five rows of the <code>judge</code> DataFrame. You'll see that each row represents one pitch thrown to a batter. You'll also see that some columns have esoteric names. If these don't make sense now, don't worry. The relevant ones will be explained as necessary.</p>"
   ]
  },
  {
   "cell_type": "code",
   "execution_count": 2,
   "metadata": {
    "dc": {
     "key": "11"
    },
    "tags": [
     "sample_code"
    ]
   },
   "outputs": [
    {
     "name": "stdout",
     "output_type": "stream",
     "text": [
      "<class 'pandas.core.frame.DataFrame'>\n",
      "RangeIndex: 3436 entries, 0 to 3435\n",
      "Data columns (total 78 columns):\n",
      "pitch_type                         3396 non-null object\n",
      "game_date                          3436 non-null object\n",
      "release_speed                      3395 non-null float64\n",
      "release_pos_x                      3395 non-null float64\n",
      "release_pos_z                      3395 non-null float64\n",
      "player_name                        3436 non-null object\n",
      "batter                             3436 non-null int64\n",
      "pitcher                            3436 non-null int64\n",
      "events                             773 non-null object\n",
      "description                        3436 non-null object\n",
      "spin_dir                           0 non-null float64\n",
      "spin_rate_deprecated               0 non-null float64\n",
      "break_angle_deprecated             0 non-null float64\n",
      "break_length_deprecated            0 non-null float64\n",
      "zone                               3395 non-null float64\n",
      "des                                773 non-null object\n",
      "game_type                          3436 non-null object\n",
      "stand                              3436 non-null object\n",
      "p_throws                           3436 non-null object\n",
      "home_team                          3436 non-null object\n",
      "away_team                          3436 non-null object\n",
      "type                               3436 non-null object\n",
      "hit_location                       216 non-null float64\n",
      "bb_type                            381 non-null object\n",
      "balls                              3436 non-null int64\n",
      "strikes                            3436 non-null int64\n",
      "game_year                          3436 non-null int64\n",
      "pfx_x                              3395 non-null float64\n",
      "pfx_z                              3395 non-null float64\n",
      "plate_x                            3395 non-null float64\n",
      "plate_z                            3395 non-null float64\n",
      "on_3b                              331 non-null float64\n",
      "on_2b                              661 non-null float64\n",
      "on_1b                              1105 non-null float64\n",
      "outs_when_up                       3436 non-null int64\n",
      "inning                             3436 non-null int64\n",
      "inning_topbot                      3436 non-null object\n",
      "hc_x                               381 non-null float64\n",
      "hc_y                               381 non-null float64\n",
      "tfs_deprecated                     0 non-null float64\n",
      "tfs_zulu_deprecated                0 non-null float64\n",
      "pos2_person_id                     3199 non-null float64\n",
      "umpire                             0 non-null float64\n",
      "sv_id                              3392 non-null object\n",
      "vx0                                3395 non-null float64\n",
      "vy0                                3395 non-null float64\n",
      "vz0                                3395 non-null float64\n",
      "ax                                 3395 non-null float64\n",
      "ay                                 3395 non-null float64\n",
      "az                                 3395 non-null float64\n",
      "sz_top                             3396 non-null float64\n",
      "sz_bot                             3396 non-null float64\n",
      "hit_distance_sc                    641 non-null float64\n",
      "launch_speed                       679 non-null float64\n",
      "launch_angle                       679 non-null float64\n",
      "effective_speed                    3214 non-null float64\n",
      "release_spin_rate                  3297 non-null float64\n",
      "release_extension                  3383 non-null float64\n",
      "game_pk                            3436 non-null int64\n",
      "pos1_person_id                     3199 non-null float64\n",
      "pos2_person_id.1                   3199 non-null float64\n",
      "pos3_person_id                     3199 non-null float64\n",
      "pos4_person_id                     3199 non-null float64\n",
      "pos5_person_id                     3199 non-null float64\n",
      "pos6_person_id                     3199 non-null float64\n",
      "pos7_person_id                     3199 non-null float64\n",
      "pos8_person_id                     3199 non-null float64\n",
      "pos9_person_id                     3199 non-null float64\n",
      "release_pos_y                      3395 non-null float64\n",
      "estimated_ba_using_speedangle      3436 non-null float64\n",
      "estimated_woba_using_speedangle    3436 non-null float64\n",
      "woba_value                         773 non-null float64\n",
      "woba_denom                         773 non-null float64\n",
      "babip_value                        773 non-null float64\n",
      "iso_value                          773 non-null float64\n",
      "launch_speed_angle                 679 non-null float64\n",
      "at_bat_number                      3436 non-null int64\n",
      "pitch_number                       3436 non-null int64\n",
      "dtypes: float64(53), int64(10), object(15)\n",
      "memory usage: 2.0+ MB\n",
      "None\n"
     ]
    }
   ],
   "source": [
    "# Display all columns (pandas will collapse some columns if we don't set this option)\n",
    "pd.set_option('display.max_columns', None)\n",
    "\n",
    "# Display the last five rows of the Aaron Judge file\n",
    "print(judge.info())"
   ]
  },
  {
   "cell_type": "markdown",
   "metadata": {
    "dc": {
     "key": "18"
    },
    "deletable": false,
    "editable": false,
    "run_control": {
     "frozen": true
    },
    "tags": [
     "context"
    ]
   },
   "source": [
    "## 3. Aaron Judge and Giancarlo Stanton, prolific sluggers\n",
    "<p><img style=\"float: left;margin:5px 20px 5px 1px\" src=\"https://s3.amazonaws.com/assets.datacamp.com/production/project_250/img/stanton_wide.jpg\"></p>\n",
    "<p>This is Giancarlo Stanton. He is also a very large human being, standing 6 feet 6 inches tall and weighing 245 pounds. Despite not wearing the same jersey as Judge in the pictures provided, in 2018 they will be teammates on the New York Yankees. They are similar in a lot of ways, one being that they hit a lot of home runs. Stanton and Judge led baseball in home runs in 2017, with <a href=\"https://www.youtube.com/watch?v=tJ6Bz5P6dg4\">59</a> and <a href=\"https://www.youtube.com/watch?v=Gw3pFHMM9fk\">52</a>, respectively. These are exceptional totals - the player in third \"only\" had 45 home runs.</p>\n",
    "<p>Stanton and Judge are also different in many ways. One is <a href=\"http://m.mlb.com/glossary/statcast/batted-ball-event\">batted ball events</a>, which is any batted ball that produces a result. This includes outs, hits, and errors. Next, you'll find the counts of batted ball events for each player in 2017. The frequencies of other events are quite different.</p>"
   ]
  },
  {
   "cell_type": "code",
   "execution_count": 3,
   "metadata": {
    "dc": {
     "key": "18"
    },
    "tags": [
     "sample_code"
    ]
   },
   "outputs": [
    {
     "name": "stdout",
     "output_type": "stream",
     "text": [
      "Aaron Judge batted ball event totals, 2017:\n",
      "strikeout                    207\n",
      "field_out                    146\n",
      "walk                         116\n",
      "single                        75\n",
      "home_run                      52\n",
      "double                        24\n",
      "grounded_into_double_play     15\n",
      "intent_walk                   11\n",
      "force_out                     11\n",
      "hit_by_pitch                   5\n",
      "field_error                    4\n",
      "fielders_choice_out            4\n",
      "sac_fly                        4\n",
      "triple                         3\n",
      "strikeout_double_play          1\n",
      "Name: events, dtype: int64\n",
      "\n",
      "Giancarlo Stanton batted ball event totals, 2017:\n",
      "field_out                    239\n",
      "strikeout                    161\n",
      "single                        77\n",
      "walk                          72\n",
      "home_run                      59\n",
      "double                        32\n",
      "intent_walk                   13\n",
      "grounded_into_double_play     13\n",
      "hit_by_pitch                   7\n",
      "force_out                      7\n",
      "field_error                    5\n",
      "sac_fly                        3\n",
      "fielders_choice_out            2\n",
      "strikeout_double_play          2\n",
      "pickoff_1b                     1\n",
      "Name: events, dtype: int64\n"
     ]
    }
   ],
   "source": [
    "# All of Aaron Judge's batted ball events in 2017\n",
    "judge_events_2017 = judge.loc[judge['game_year'] == 2017].events\n",
    "print(\"Aaron Judge batted ball event totals, 2017:\")\n",
    "print(judge_events_2017.value_counts())\n",
    "\n",
    "# All of Giancarlo Stanton's batted ball events in 2017\n",
    "stanton_events_2017 = stanton.loc[stanton['game_year'] == 2017].events\n",
    "print(\"\\nGiancarlo Stanton batted ball event totals, 2017:\")\n",
    "print(stanton_events_2017.value_counts())"
   ]
  },
  {
   "cell_type": "markdown",
   "metadata": {
    "dc": {
     "key": "25"
    },
    "deletable": false,
    "editable": false,
    "run_control": {
     "frozen": true
    },
    "tags": [
     "context"
    ]
   },
   "source": [
    "## 4. Analyzing home runs with Statcast data\n",
    "<p>So Judge walks and strikes out more than Stanton. Stanton flies out more than Judge. But let's get into their hitting profiles in more detail. Two of the most groundbreaking Statcast metrics are launch angle and exit velocity:</p>\n",
    "<ul>\n",
    "<li><a href=\"http://m.mlb.com/glossary/statcast/launch-angle\">Launch angle</a>: the vertical angle at which the ball leaves a player's bat</li>\n",
    "<li><a href=\"http://m.mlb.com/glossary/statcast/exit-velocity\">Exit velocity</a>: the speed of the baseball as it comes off the bat</li>\n",
    "</ul>\n",
    "<p>This new data has changed the way teams value both hitters and pitchers. Why? As per the <a href=\"https://www.washingtonpost.com/graphics/sports/mlb-launch-angles-story/?utm_term=.8d088d31f098\">Washington Post</a>:</p>\n",
    "<blockquote>\n",
    "  <p>Balls hit with a high launch angle are more likely to result in a hit. Hit fast enough and at the right angle, they become home runs.</p>\n",
    "</blockquote>\n",
    "<p>Let's look at exit velocity vs. launch angle and let's focus on home runs only (2015-2017). The first two plots show data points. The second two show smoothed contours to represent density.</p>"
   ]
  },
  {
   "cell_type": "code",
   "execution_count": 4,
   "metadata": {
    "dc": {
     "key": "25"
    },
    "tags": [
     "sample_code"
    ]
   },
   "outputs": [
    {
     "data": {
      "text/plain": [
       "Text(0.5, 1.0, 'Giancarlo Stanton\\nHome Runs, 2015-2017')"
      ]
     },
     "execution_count": 4,
     "metadata": {},
     "output_type": "execute_result"
    },
    {
     "data": {
      "image/png": "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\n",
      "text/plain": [
       "<Figure size 432x288 with 2 Axes>"
      ]
     },
     "metadata": {
      "needs_background": "light"
     },
     "output_type": "display_data"
    },
    {
     "data": {
      "image/png": "iVBORw0KGgoAAAANSUhEUgAAAYMAAAEmCAYAAACAtfxPAAAABHNCSVQICAgIfAhkiAAAAAlwSFlzAAALEgAACxIB0t1+/AAAADl0RVh0U29mdHdhcmUAbWF0cGxvdGxpYiB2ZXJzaW9uIDMuMC4wLCBodHRwOi8vbWF0cGxvdGxpYi5vcmcvqOYd8AAAIABJREFUeJztnXnYJGV19n83uwODwDCMMCyDGUBxQ52gBoMIGHchwRgVdTR88VOM+4afmiBmETWKJu4bqLhFJWCMCyJoxAUZRRZRGGEQhoEZhx0UGTjfH1XN1NtT1V3VXdVd3X3/rquu6a719Lznqfs5z3IeRQTGGGNmm83GbYAxxpjxYzEwxhhjMTDGGGMxMMYYg8XAGGMMFgNjjDFYDEwJJK2SdPi47TD1I+nDkt46bjuySFoiKSRtMW5bZgmLQc1IOkfSjZK2HrctHSQdIumacdthRo+kZ0v6iaTbJa1NPx8rSQAR8ZKIePu47awLSbtL+oqk30m6WdLFkl6YHqtVZKatXFkMakTSEuDPgQCeMcR9XCMyQyPptcD7gHcB9wMWAS8BDgK2GqNphdTg+58Brgb2AhYAzweuH9aumSAivNW0Af8AnAu8B/jvrmNPBX4O3ELirMdnji0hEZBjgN8C30/3PwO4BLgJOAd4YOaaVcDrgAuBm4EvAtsU2HUIcE3XtYdnvh8PfDbz/fnAVcB64M3Z84H7AKcANwKXAm/ouvduwFeAdcCVwCvG/XeZxQ24L3A7cFSf804G/in9vCPw3+nf7sb08+6Zc88B3p76+K3At4GdM8cfC/ww9dergRcO4vuZfVtkfOoM4AZgJfB3PX7PbcABBcd+m973tnR7DPAnwHdTX/8dcCqwQ+aa3HIGbAv8Hrgnc7/dgK2Bk4Br0+0kYOv0XocA1wCvBdYCa4AXjdtX7v2t4zZgmrbUUY8FHgncBSzKHDsEeAhJNPZQktrKkemxjvN/OnWy+wD7poX5CcCW6Ut3JbBVxknPSx1wJ5IX80sK7DqEkmIA7J869sGpY78H2MBGMXgH8D2SF8fuaSG5Jj22GbCCRBS3Au4PXAE8cdx/m1nbgCelf7ct+px3MhvFYAFwFDAPmA/8J/BfmXPPAX6T+uZ90u/vSI/tRSIQz0n9dQHpS3kA3+/s64jB94EPkryEDyARq0MLfs93SMTq2cCeXcfm3DfdtzQtY1sDC9NnndRVVnLLWXe5SvedAPwY2CW93w+Bt2fO35CesyXwFOAOYMdx+0uExaC+/8ikVnQXaU0J+BXw6h7nnwS8N/3ccdL7Z46/FfhS5vtmwGrgkPT7KuB5mePvBD5c8Kw5TktvMfgH4AuZY9sCf2SjGMx5uQP/h41i8Cjgt13PfhPwqXH/fWZtA54HXNe1r1Nr/z1wcLrvZFIxyLnHAcCNme/nAG/JfD8W+Gbm73xaSdv6+X5n3xbAHsDdwPzM8X8FTi64944kFZZL0usuAP60+749bDsS+Hnme2E56y5X6b7fAE/JfH8isCpz/u+ZK0ZrgUeP218iwn0GNbIc+HZE/C79/rl0HwCSHiXpbEnrJN1M0na7c9c9rs583o2kqQaAiLgnPb44c851mc93ANsN/SuS595rR0TcThJC5x7v+rwXsJukmzob8P9I2qrNaFkP7Jxtg4+IP4uIHdJjm5R9SfMkfUTSVZJuIakl7yBp88xpRT63B8mLcBMG8P0suwE3RMStmX1XMbcc3EtE3BgRx0XEg0j87gLgvzod5jm2LZL0BUmr09/82RzbqpSzOeU2/bxb5vv6iNhQ4X4jw2JQA5LuAzwLeJyk6yRdB7waeJikh6WnfY6k3XOPiLgv8GGg20GzKWSvJXm5dp4hkgK3ugaTbydpCuhwv8znNelzOs+dRxLyZ4/vnvm+R+bz1cCVEbFDZpsfEU+pwWZTjR8BdwJHVLjmtcB+wKMiYnuSpkLY1E/zuJqk/T2Pqr6f5VpgJ0nzM/v2pEQ5SCtm72ZjE0/eM/4l3f+Q9Dc/L8e2wkcU2LtX5vue6b7WYzGohyNJQtL9SULrA4AHAv8LvCA9Zz5JDecPkg4Entvnnl8CnirpMElbkhTUO0lC/WG5AHi2pC0lLQOemTn2ZeBpkh4raSuS9s2sn3wJeJOkHSUtBv4+c+w84FZJb5R0H0mbS3qwpD+twWZTgYi4CXgb8EFJz5Q0X9Jmkg4gafrLYz5JM8ZNknYC/rHCI08FDpf0LElbSFqQPqtz3yq+n/0dV5P4/L9K2kbSQ0k6mz+bd76kE1Of2yIVkJcCKyNiPUlfwz0kfVnZ33wbcHPqz6+v8JuvBxZIum9m3+eBt0haKGlnkmbXXFvbhsWgHpaTtIv/NiKu62zAfwBHp6H6scAJkm4lcZAv9bphRPyapJby7ySjHJ4OPD0i/jigjdlazFtJanE3krwwPpd57iXAy9J9a9JzsmOpT0i/X0nSWfdlEpEiIu4GnkYihlemdn+cZGSLGTER8U7gNSSDD65Pt48AbyS/UnESSQfu70g6Qb9Z4Vm/JekQfS3JqJ8LgE5UXMn3c3gOSXv/tcBpwD9GxHcKzp2XnnMTSf/WXqTDvCPiDuCfgXPTZsxHk/j/I0hGCn0d+GpZoyLiVyQv/yvS++0G/BNwPsnAiouAn6X7Wo/STgwzxUh6BnBCRBzQ9+Tq934p8OyIeFzd9zbGjA5HBlNOGpUcRVJbqeN+u0o6KG1y2I+kJnhaHfc2xowPz3SdYtK2zKtJxv6/oM/pZdmKpKlhb5JQ/AskY8CNMROMm4mMMca4mcgYY4zFwBhjDFMgBnm59iW9UNIPxmVTxo6TJf1R0m2SbpB0pqQHjNmmfSWdns4GvUHSt9KO4Ow5r04nz90i6ZPZdNyS3i7pIkkbJB3fdd0hku5Jf29nW04BkpZLWpE+5xpJ78zOmJW0k6TTlKRfvkrSczPHdpV0hqRrlaQlXtJ170u67Ngg6WsD/8eNAft2ZZvs20Mw8WIwAbwzIrYjmT6/GvjEmO3ZgWQ26H4k0/XPA07vHJT0ROA44DCSMdr3JxmL3WElybj1rxfc/9qI2C6zndLDlnnAq0im/z8qfebrMsc/QJIXaRFwNPAhSQ9Kj91DMg7+qLwbR8SDOjaQTCy6miTxmqkP+3Yxk+fb406ONOxGV9K1dN8LgR9kvj+QJMnWTSQJrJ6ROXYyyWiYb5DMRDyXJD3DSSQTrn4FPDxzfukUzXQlASOZlHN75vvxzE0dvYS52RrPoSBlMEkGx8+S5Jm5CfgpmSypFf7/OtP0F6TfPwf8S+b4YXQlPEv3f5ZMKuJ03yF0Je6qaMtrgK+lnzsJ8vbNHP8MaZbMzL4tUvuX9Ljv49L/v23H7a/2bft2W3176iMDJakcvkbibLsALwdO7QofnwW8hUTF7yTJ6/Kz9PuXSdI4I2mz9F6/IKkNHQa8Kq1x9LNjW5KZlCsr/oTnAi9Kbd+KjbWL5SQze/cgyR30EpJUAlU5mKRAdJLRPYjk93X4BbBI0oJNrsxnF0nXS7pS0nvT313FlkvSz/sCGyLisi5bHrTJVf1ZDnwlkqR7U4N9uy/27QpMixj8l+ZmysyOe380SVbAd0TEHyPiuySLdjwnc85pEbEiIv5AMoHqDxHx6UjSK3wReHh63p8CCyPihPReVwAfI8mdXsTrUptuJUlz/fyKv+1TEXFZRPyeZBp/ZxbxXSQFZWlE3J3af0uVG0vanSRcfU1m93YkU/M7dD5nE4UV8avUvl2BQ0nWdXhPSVv+FlhGklisY0f377m5pB3Z+84jyb10cpXrWoR9275ddN9afXtaxODIyGTKJMmF0mE34OpIUkB36E6Bm10W7/c53zspZgdJ0fzu1KYl6b3263FuHkXpcz8DfAv4QtrR9M60plgKSQtJapQfjIjPZw7dBmyf+d75nE0hnEskOZl+GRH3RMSVJO2vR6XPOzrT4fWNLluOJMlR/+TYmAK8246OLX3t6OKvSHLlfK/idW3Bvm3fLqJW354WMejFtcAeaRjcoVQK3BwGTtEcSSKvVwLvU5LyGnqnku53v7si4m0RsT/wZyQJ4krNMpa0I0lhOSMi/rnr8CVsTDBG+vn6TKhdhSD1sYg4NTZ2vD05Y8uTSGqgT4+IizLXXgZsIWmfLlsuoRrLgU9H2sA6Zdi3u7BvD84siMFPSGodb1CSsvkQkgygXxjgXkOlaI6IM0kK8IvTXRcAB0vaU0nqiDeVNUTS4yU9RMnCI7eQhNb3pMeOl3ROwXXbk9S6zo2I43JO+TRwjKT9Je1A0t58cub6LSVtQ+I7WyhJK7x5xqa9lLAHyYpTp2/6iHvvdShJ6uOjIuK87LG0DfSrJNkut5V0EElu/s9krt+GZLlCgK3T79n77w48nmTN5mnEvj33Ovv2EEy9GESS8vnpwJNJUvN+EHhBJOlnq96rjhTN7yIpvFunBeiLJOluV5C095blfiQdgLeQrMv6PTY60x4kozTy+EuS9uEXae5Y5T0BIuKbJEv7nU2ygPhVzM1r/zGSJoHnAG9OP3faih9Okhr59vTfi4BX9PgNbyX5v/ufgjD7WJKUymtJUgW/NJIU2x1+TxJyQ9Km293J+HzgRxGRuwLXpGPf3gT79hA4N9EUIukC4LABw19jWot9uzksBsYYY6a/mcgYY0x/LAbGGGMsBsYYYyZopbOdd945lixZMm4zzJSyYsWK30XEwlE/135tmqasb0+MGCxZsoTzz69lGV9jNkHSVeN4rv3aNE1Z33YzkTHGGIuBMcYYi4ExxhgsBsYYY7AYGGOMwWJgjDEGi4ExxhgsBsYYYxjBpDNJq0iWc7ubZBHoZZJ2Isl1vgRYBTwrIm5s2hZjjDH5jCoyeHxEHBARy9LvxwFnRcQ+wFnpd2OMMWNiXM1ER7BxubZTgCPHZIcxxhhGIwYBfFvSCkmd9VEXRcSa9PN1wKIR2GGMMaaAUSSqe2xErJa0C3CmpDnrs0ZESMpdbi0VjxcD7Lnnns1baswIsF+bNtJ4ZBARq9N/1wKnAQcC10vaFSD9d23BtR+NiGURsWzhwpFnFzamEezXpo00KgaStpU0v/MZ+AvgYuAMYHl62nLg9CbtMMYY05umm4kWAadJ6jzrcxHxTUk/Bb4k6RjgKuBZDdthjDGmB42KQURcATwsZ/964LAmn22MMaY8noFsjDHGYmCMMcZiYIwxBouBMcYYLAbGGGOwGBhjjMFiYIwxBouBMcYYLAbGGGOwGBhjjMFiYIwxBouBMcYYLAbGGGOwGBhjjMFiYIwxBouBMcYYLAbGGGOwGBhjjMFiYIwxhobXQDbluez6O0qfu++ieQ1aYoyZRSwGY6aKCORdY2EwxtSBm4nGyCBCkHePOu5jjJltLAZjou4XuEXBGDMMFoMx0ORL24JgjBkEi8EUYkEwxlTFYjBiRvWitiAYY6rg0UQtZf2tfyx13oL5WxUe6wiCRxwZY/rhyKCFlBWCzrn9zneUYIzph8WgZVQRgu7rBr3WGGMsBiOkXw29jpd50T0cHRhjemExmDBW3Xo7q269vec5RVGCBcEYU4Q7kFtCr6gg7+XfvW/J/G1z79ndwXzZ9Xe4Q9kYswmODFpOvygge17euY4QjDFlsBi0mLJC0O8adywbY/phMWgBdb+sy4iIowNjTJaR9BlI2hw4H1gdEU+TtDfwBWABsAJ4fkS4+pqh6IX+63X5L/H9Fs7tB1h16+1z+hHcf2AmhV4VFftrc4wqMnglcGnm+4nAeyNiKXAjcMyI7JhoioSgc6z7eLeguLnItJkymXc75ziyrZ/GxUDS7sBTgY+n3wUcCnw5PeUU4Mim7Zgk8qKCXkLQfV723H6C4EJl2sCwizyZ4RlFZHAS8AbgnvT7AuCmiNiQfr8GWJx3oaQXSzpf0vnr1q1r3tKWUlYIiq7p14fgQjVa7NdzGcb/HCXUR6NiIOlpwNqIWDHI9RHx0YhYFhHLFi5cWLN1k83KtXdssnVTJAhuLhov9uv6sSAMT9ORwUHAMyStIukwPhR4H7CDpE7n9e7A6obtGDt1Omvei7+zv/tYWUFwYTLjoE6/sw8PR6NiEBFviojdI2IJ8GzguxFxNHA28Mz0tOXA6U3aMcl0NxEVCUHVc4yZRiwIgzOueQZvBF4jaSVJH8InxmTH1JIVBEcHpo005W/248EYmRhExDkR8bT08xURcWBELI2Iv46IO0dlxzgYl3MWCYIx044FoTqegTxB5DX/rLruljlbqWscHZgxMwo/sy9Xw2LQME2uYZD38s/b18HRgZk0OunYu7eyWBDKYzFoiHGOf+4WBEcHpk2U9a9eL30Pj64fi0EDjOJl2isC6HXc0YEpQzbtQ50VmzqEoMo5VZ4563hxmxqp6nR5zjxI2uoiVl13C0vutz2QRAdLdylOZtedyM5J7GaPMnmBslT1jyZeynkJGM1gWAyGpO21jqwgdPj1ujs2yXJqZps6cgP1Eocq96/aBFRGEFy56Y/FYECGFYFxtHk6OjB5jLoJqBeDlgtHCMPjPoOK1NF+OmohyOs/cN+BgfZHtmZ0WAwqMM6aT114ZJFpK8OWjX7X25d7YzEoSR3RQD9n7e48brr27uhgtmnTy3HclSRjMejLMM1CVSbJ1DGKaPXqW+7dNrl/pqnI0YGZViwqg2MxqJlBZkk2QZ4gDIMFYbpoy9+zDWXFJHg0UQ/qnCBTRNmIoI601FWGmXp0hunn18P6h0WgXTgyKKBpIVh16+09haCO9vxe0UG/pqI82lKbNM1TdgZw1Zr9uCNn+3AxjgwGZBgR6MeoO3YdHcwWTSRP7L6m4zfjeOnbbwfDYpBDnYWlasdw00KQ11Q053hmEloenog23dT18nYT0ORRuplI0r6SzpJ0cfr9oZLe0pxp7aTsyKB+zUB5FAlBd5NOvyR1ZSnTD5H3ex1qF9P2cjJJf7tsORqkPJlqVOkz+BjwJuAugIi4kGRd45mhlxAM47C/XnfH0BFBUf9A2VFFRUtjFjFJL5URM7HlZNy1+TIv/rJlbNy/ZRKp0kw0LyLOk5Tdt6Fme8ZO0UuunxBUpezLvw2L27sNthKtLSdtFPBBa/v9mjN74abOfKqIwe8k/QkQAJKeCaxpxKoJoqwzD1LzL1rmcliKUltnO5K7C1ueILhQ5TK15STP1wd9IdfR5DOMIJhNqSIGLwM+CjxA0mrgSuB5jVjVMoqigqaGhlaNBvo1Ba1efQuLFxd3Gg+DBWETWllOhh0U0avZpkO/F7Pb/NtNaTGIiCuAwyVtC2wWEbc2Z1b7KXLsJkWgro7jvOcOGh2ABSFLG8vJsM1DZV/i43jZ94oOejVv2mc3pa8YSHpNwX4AIuI9NdvUeuoUgrJRQJEQlO0g7o4O+g0xvfc8C0Ip2lpORiUE48TNRfVQJjKY37gVLWGYgtNUh3CvaKDO/ENF0UEe7lDOZWLLSZtG3mTLUR2r8dlXy9NXDCLibaMwpK10F5S8mlIvIRhmNFDTQjBodFDELEcHbSwnbRw9lEdR+ene30scBokOZtlf8yjdZyDp/Tm7bwbOj4jT6zNpsig7UawK/foGBhWCKh3J3dGBm4vKMU3lpOkmoqrNql67u1mqTDrbBjgAuDzdHgrsDhwj6aQGbJtIVq69Y2AhWHXdLY0JQa9ndui2u19hLWpemJQaaUO0opyMIuPuoAwzybLXdUXi1es3zrivzqHK0NKHAgdFxN0Akj4E/C/wWOCiBmxrPXXkESo7QqguEegXHWT7DrrJC8UdIWzCzJSTXv6fV4OvK+9WrwihqLnII4v6U0UMdgS2Iwl5AbYFdoqIuyXdWbtlLaRf2NzU0NAyQrB+zfpN9i3YdUHh/cqOLOrXXATupOti7OVkFFFBvxf7KJZsdZNRvVRpJnoncIGkT0k6Gfg58K50PPV3mjBukuglBGWaf4roJQTr16y/dys6Pgj9movKtiXPaAg+EeWkTSOIBqVIcNxcNBhVJp19QtL/AAemu/5fRFybfn597ZZNAcNOEusnBGXonNcdJQw67+De892hnMsslJOmav29KlRFTZdFEcIgzUWzTtWVzjYD1gE3AkslHVy/SZNBvwIxjBAULWoP9IwE6qRqZzJMR22zJlpdTtr4d+rXxNprYEZd4jTr0UGV9QxOBM4F3kxSw3k98LqG7BoLbajB1hENlL22+1ndAjZIc9Gsr38wC+WkbqqMvqsiCG4uqkaVDuQjgf0iYiY6i8dB3cNGu1m/Zn1hp/KgeELaJrS6nLQtKhhkGHbRiLe8JiM3F5WnSjPRFcCWVW4uaRtJ50n6haRLJL0t3b+3pJ9IWinpi5Im+q9Sx0pk/YSgV1Rw1+qVm2xl7zNsdJD7jJa9cEZM5XIyadQ1imeYiZlNRgizGh1UEYM7SEZJfETS+ztbn2vuBA6NiIeRTMR5kqRHAycC742IpSTtqscMYvyoaSoZ1jARQdGLv58oVMHNRZUYpJzMFMNMzCxznyqCUMSM+OocqojBGcDbgR8CKzJbIZFwW/p1y3QL4FDgy+n+U0hC64kiWzsqGulQhkHnEECxEPQ7p2p0UAYPN72XyuVk2um8tOsSgbz7d1NWEGY8ip1DlaGlpwzyAEmbkxSGpcAHgN8AN0VEZynAa4DFBde+GHgxwJ577jnI44dmwfytGnOYJiKConO3XLx04GfBpu20ZSb9zGK7bJly0ga/LsOS+dsOlZ9olEu25vUjlO1D8LDohCqjifaR9GVJv5R0RWfrd11E3B0RB5DkZzkQeEDZZ0bERyNiWUQsW7hwYdnLhmJa//jd4lFHdODJaJtSppyMw6/rpl9FoC4h6EzYLOOPTUQI0+yr3VRpJvoU8CGSxb0fD3wa+GzZiyPiJuBs4DHADpI6UcnuwOoKdpgxUaaAdxe0GQzDhyonbWOci8Z0C0AZYSgrCGZTqojBfSLiLEARcVVEHA88tdcFkhZK2iH9fB/gCcClJKLwzPS05cBEpfbtR9mZvIsXb9/Y2sR5jCI6KMsU17gql5NJpcncQP18r5colBEERwebUkUM7pS0GXC5pL+X9JckCbl6sStwtqQLgZ8CZ0bEfwNvBF4jaSWwAPjEALaPhWxNqa7C0E8Q6p4bMAyODvoySDlpNYNEB8MMqqgygGFUgjALVBGDVwLzgFcAjwSeR1KrLyQiLoyIh0fEQyPiwRFxQrr/iog4MCKWRsRft22CTne/QZlO0GGcH0YXJdQ13DTLoHMPprTGVbmcTAJFgtCGzKFFUcKggpDHlPrqHEqLQUT8NCJui4hrIuJFEXFURPy4c1zSvzdj4mRSJelbllE2G8FwKS56MQkLqTdBG8pJr0EQw4zuGoUgDJPTqy5BmNXmoqqJ6npxUI33ajVFTUXd0UGdgtDdVDTsUNEi6phzUIVpL2A5zEw5GTZaHoS8KGGQkU2z2FxUpxhMNaMeLz/qCKEKg47YmMUC1kbaHh3UQR1JF/OY5sqLxaCAQecb1BUdwKaCMKrooC5cwMZHk/NlqnQojyM66DCsIMxa5aVOMVCN92o9VUYVNSkIk8asFbAcWlFOho108wRhFNFBZ62PvC2POhIvdjOtlZc6xeB9Nd6rlZQtQHm1oToFIUvbo4OyTGsBy6E15WRUglBXdNAvfcuggjDn3BmODqqko9hX0sckfVvSdztb53hEnNyIhWOkX6hddc7Bkvttf+82DG1tLqojW+Sk06ZyUqapaFR9YcMKQtk8XkVRQi9BGLT/YNqosrjNfwIfBj4G3N2MOe2nbOK6pbvM61kD6ScI3c67ePH2c5x8wa4L5gwL3XLx0kbmEDTBlCewm7hyMkwyxrxkdvstnDf2FBDda3xD73W+eyVezPPXaUxiV6WZaENEfCgizouIFZ2tMcsmkG5nGqY2lOe0dXQotyWKyGNKmopaVU7KvrBGIc6j7kzuFyFUaS6aBfqKgaSdJO0EfE3SsZJ27exL9081VZqK8hhWELpFYRhBaLMQTDptLidVBGEQURhXZ3IZ+jUv9WouyjILM+jLNBOtIFmQpjMK4vWZYwHcv26j2k6vsDovRO7XZNSPJffbfk6NprvJqJvsS7/TdFQkBN1i0ub5DS1naspJVhDKNh+VXftg2LKQR6e5tGikXXeTUa/molmmb2QQEXtHxP3Tf7u3iXHwYagaHTQxoqJXhLBg1wWFBWHLxUuHigjyCk3Rb6lSG5y2URptLyeDtm8PGi1AsT/0Kgt5/lZU8Vm/Zv2cfrPO97wUK70qT0XRwayNLKoymuhlnXTU6fcdJR3bjFntZ5ACsnSXebX2I0zbHASY/NC7zeVkmA7PtnX498up1U8Q6kqzMun+mqVKB/LfpQvUABARNwJ/V79Jk0mZ6KBDRxTKbJs8p0ZBmAbxaCFTW076CUKVvoNRdCbXkYRxljqSq4jB5pLunT2Zrm3crupCg+TVqroLRxVBKEueKJQRhH4v+rzj7i+ohVaXk2GHQ44jQhjGL3st4FQ0sqhqR/K0UEUMvgl8UdJhkg4DPp/uMz2oa1RFVUGAfFEoIxRFz8izo0NbRo+0gNaXk7YIQpEv9evcbSrt+qBMS1NRFTF4I8lylS9Nt7OANzRhVFsZJDqA8QoCbBSAXiLgqKA2JqKcNDVhqo3DTMtGB0XMSlNRlcVt7kkn0zwz3T4SERMxw7IN1CkIWVEoKwjjYpAlEye5pjVJ5WSaOpT7USaamPWmoiqjiQ6SdKakyyRdIelKSVc0adykUCY6gEQQyopCv/P6CUIVUcg7101EgzFp5WTfRfPGmlahro7ku1avnLONmkmuwHSokpvoE8CrSSbXtLKmMwr2XTSv1B++1yScQQQhr6aSncDTPTEN+k9O65xjamUiy0lZv54U7lq90jPuK1Klz+DmiPhGRKyNiPWdrTHLJoymw+aiqKJXhAAbo4Tul37V6KGXXUUM0kQ0BUxsOakaJTTp81VmCBdFAt37s01FZbOgdpiFfoMqYnC2pHdJeoykR3S2xixrMWULTBMvwzKCUFSQioShm1FM1Z+0NucKTHw5maZsnGWajAaZgDaNuYqqNBM9Kv13WWZfAIfWZ85kk5ezqGzOliqUyX+U12w0DFXbdmc0KoApKSfT1mzUYf2a9T1H1a1ce8ee9TobAAAQVklEQVS9vt4rrfU0UloMIuLxTRoyaVQpLKMShE2eO4AgtCGB1yTXTKepnJTx8VFVgMr0fxXh/oNylBYDSf+Qtz8iTqjPnMmnKKPpKAQhLyNk3RFC9/MHYYqbiKaunLQxQuhe2GlQ8hbAmWWq9BncntnuBp4MLGnApomhag12yfxtSzefdM7NbnmUWVCnbG2/6Dw3EVVi6srJJEdqpjxVmon+Lftd0ruBb9Vu0RTQbxnBQV+Wnev6LTM4SIQwquahaY4KYHrLSa8IYZhlM3tRZ1SbbSrq128wDJO8HGaVyKCbecDudRkybTQ67K7ElP+iCCHvpd+GfoIpZmrKyTAvuVnqiJ1UqvQZXEQyKgJgc2AhMJHtoHUyrjbVYfogmnz594p6ygjkpNaqOkx7Oalj0qVpJ1WGlj4t83kDcH1EbKjZnqmiqfC5Q3eBK9NcVBeu6RUyk+WkaV+H4UYUQe9RRV4Ks1qiuqsi4irg9yQ1nt0k7dmYZRNEr9rsqNvIyzQXVWEUi5BME7NQTiY9esvSS1xmrcJTJVHdMyRdDlwJfA9YBXyjIbsmjnEJwqSM3JmFJiKYnXJS52JPVddEhuFX6WvbmghtoEoH8tuBRwOXRcTewGHAjxuxagoZZmHxfvQrdK7djxSXkxHjCWX1UEUM7koTbm0mabOIOJu5U+5nnjI12yqC0BGQJoWkLUxDVJAyM+VkVNFBlmEniQ2a3npSIvBhqCIGN0naDvg+cKqk95FMrClE0h6Szpb0S0mXSHplun+nNOf75em/Ow7+EyaP7pd80VZ0XR6ODlpD5XIyyYxCxJtqKupHr3Qv01g5qyIGR5B0ir2aZE3X3wBP73PNBuC1EbE/Sej8Mkn7A8cBZ0XEPiTLAh5X1fC2MorCMY2OOEUMUk6miqajgzwGaSrq9BsMM0Kpm0mOcKuMJro9Iu6OiA0RcUpEvL9fnvaIWBMRP0s/3wpcCiwmKTCnpKedAhw5mPntZFyCUHd0MKpoYpILUDeDlJNJp0xzUVnK+FxT+YQ6s52bGo7ddvqKgaRbJd2Ss90qqbSkSloCPBz4CbAoItakh64DFhVc82JJ50s6f926dWUf1Qqm6QVn+lOlnEyyXw9K2egAquXXarqpaJboKwYRMT8its/Z5kdEKYlO21C/ArwqIuYUjIgINs7Y7H72RyNiWUQsW7hwYZlHtYqmBaFMdNCN+w6aoUo5mXS/zqPOzmToLwh50UHZpqJxrJE8CQyTm6gUkrYkEYJTI+Kr6e7rJe2aHt8VWNu0HeNiHIKQZdYmzpjxMQpByKMt0cGktwY0KgaSRLJA+KUR8Z7MoTOA5enn5cDpTdoxbtrmJI4OTFOU8fU8QSjbqVxXdGA2penI4CDg+cChki5It6cA7wCekM7UPDz9PtU0KQj9al+DYMEwdVG2OXMQQbj3GZnoYBBB6DeiaBaS7jUqBhHxg4hQRDw0Ig5It/+JiPURcVhE7BMRh0fEDU3a0Rb2XTRvLFFCXiHzy940RdnRRcMIQoeikUW9BKHXsUHXT2hb9D8IjfcZmE3piEKTDlQmOhilIDSd0dK0i2EFoV8FJq+5qLvvYJgmo87w0n7rjE8TVVJYmwaoIgi98sj3SyHcnd66Q16a634i4U5pU4a8tQ/y/LRo7YM8n836a95KaN3rI3cEoTOCyH0KxTgymCCaiiSW7jJvzmZMXVSJEMpGCXkRQra5KG900ZaLl1oI+mAxmDCqpMquMozPmKaoMkO5qHmzzGz6foJgemMxmECmobPKzBZFglA1SsjSEYSi4ab9BMGCMReLwYRSJAhNRweOLsyglPXZDnmiMIgglHnpN5XvaJKwGBhjRkYvQRg0Pfu95/WYkNYRhexm5mIxmGAGbS4atHbfVFTQa5SUmT4GWSK2O0rIdiz3G3JqymExmELKzEhu4sU+C6tBmXroJwhVo4RegtBPFLLHi7KjzgIWgwlnmM7kKoLgvgJTN/0mXvbqYM7STxBgoyhkX/xlhGKWsBhMKWXzFZV5yZc5x1GBGZR+FZqqgpDtVM6r6ReJQPbcWZxvYzGYAspGB4MIgiMCMwoGiRJ6dSz3ihLymOXmoQ5ORzHF9EtRkWWYl36ZqMDrNpsy5KWwyNLt0x3f66SzyKaw6E5d0aE7hYWFIMGRwZQwbHQwKG4eMnVTJkropnukUYeiFdOyWzfZa2YpMrYYTDmDLI1ZFguBaZJeotCv2ahbEMr2AcxiX0EHi8EUUWWG57Av8irXu4nIDMOg+bi6k9z1SsaYt3+WogKwGMw0gwpC3ULgXEumH/2ihCxlZixXzdQ7C1GwxWDKGCT/S1mKEogV4YjA1M0wguB5Nb3xaKIppGhERtHoomzByVtkZJBakYXANEVZ/+4eaQRzX/J5iz3licAsRAVgMZg5+g03rcPxLQSmaToRQt5KasAmolC0ktogTKt/u5loShlXO3zVguL+AjMMVZqNBqnozEpUABaDqWaQdMGD0sQ9jSlD1VF0ZYRhUPGYZNxMNMNUmaHc7z6D4KjA1EWvfgSgb19ZWaa5wuPIYMoZJAlYWRwNmDZRZfjpIEy7r1sMZoAyglDF0esQAUcFpimaaB7tdd20+LKbiWaEfgnAIN/h19/6x9prRNNSeEx76eXvWX/u10w67dFAFovBDFFGELqpszBYBMwoGbQCNKu4mWjGGNcL2UJgxkG/DKh13H9asBjMIKN04KYLozFlaMIPp82vLQYzStOObBEwbaQun5xG33afwQxTNKW/jnsa01ayPjqI70+rj1sMzEAdy3n3MGbSqCIM0+7jFgMDDF5bmvYCYmaHWfdli4HZhFkvFMbMIo12IEv6pKS1ki7O7NtJ0pmSLk//3bFJG4wxxvSn6dFEJwNP6tp3HHBWROwDnJV+N8YYM0YaFYOI+D5wQ9fuI4BT0s+nAEc2aYMxxpj+jGOewaKIWJN+vg5YVHSipBdLOl/S+evWrRuNdcY0jP3atJGxTjqLiACix/GPRsSyiFi2cOHCEVpmTHPYr00bGYcYXC9pV4D037VjsMEYY0yGcYjBGcDy9PNy4PQx2GCMMSZD00NLPw/8CNhP0jWSjgHeATxB0uXA4el3Y4wxY6TRSWcR8ZyCQ4c1+VxjjDHVcNZSY4wxFgNjjDEWA2OMMVgMjDHGYDEwxhiDxcAYYwwWA2OMMVgMjDHGYDEwxhiDxcAYYwwWA2OMMVgMjDHGYDEwxhiDxcAYYwwWA2OMMVgMjDHGYDEwxhiDxcAYYwwWA2OMMVgMjDHGYDEwxhiDxcAYYwwWA2OMMVgMjDHGYDEwxhiDxcAYYwygiBi3DaWQtA64qscpOwO/G5E5/WiLLW2xA9pjS5Ede0XEwlEbU8Kvof3/d+OgLba0xQ4Y0rcnRgz6Ien8iFg2bjugPba0xQ5ojy1tsaMKbbG5LXZAe2xpix0wvC1uJjLGGGMxMMYYM11i8NFxG5ChLba0xQ5ojy1tsaMKbbG5LXZAe2xpix0wpC1T02dgjDFmcKYpMjDGGDMgFgNjjDGTKwaSXinpYkmXSHpVum8nSWdKujz9d8eGnv1JSWslXZzZl/tsJbxf0kpJF0p6RMN2/HX6f3KPpGVd578ptePXkp7YsB3vkvSr9DefJmmHpu3oYcvbUzsukPRtSbul+xv72wyK/bo9ft3DlpH79kj8OiImbgMeDFwMzAO2AL4DLAXeCRyXnnMccGJDzz8YeARwcWZf7rOBpwDfAAQ8GvhJw3Y8ENgPOAdYltm/P/ALYGtgb+A3wOYN2vEXwBbp5xMz/x+N2dHDlu0zn18BfLjpv439evL9uk2+PQq/ntTI4IEkP/COiNgAfA/4K+AI4JT0nFOAI5t4eER8H7iha3fRs48APh0JPwZ2kLRrU3ZExKUR8euc048AvhARd0bElcBK4MAG7fh2+rcB+DGwe9N29LDllszXbYHOqInG/jYDYr8usGMcft3DlpH79ij8elLF4GLgzyUtkDSPRAn3ABZFxJr0nOuARSO0qejZi4GrM+ddk+4bNeO0429Jaipjs0PSP0u6Gjga+Idx2tID+3V1xm3HWH27Tr+eSDGIiEtJwrNvA98ELgDu7jon2KiUI2Wcz24bkt4MbABOHacdEfHmiNgjtePvx2lLEfbryaINvl2nX0+kGABExCci4pERcTBwI3AZcH0nHEr/XTtCk4qevZqkdtdh93TfqBm5HZJeCDwNODp9kYzFji5OBY5qiS2bYL+uzFjsaKFvD+3XEysGknZJ/92TpF31c8AZwPL0lOXA6SM0qejZZwAvSHv4Hw3cnAm7R8kZwLMlbS1pb2Af4LymHibpScAbgGdExB3jsiO1ZZ/M1yOAX2VsacPf5l7s1wPZN2p/aoVv1+7XdfR0j2MD/hf4JUnv/WHpvgXAWcDlJCMxdmro2Z8H1gB3kbTHHVP0bJIe/Q+QjCy4iMxIiIbs+Mv0853A9cC3Mue/ObXj18CTG7ZjJUm75QXp9uGm7ehhy1dI2uMvBL4GLG76b2O/nny/bpNvj8KvnY7CGGPM5DYTGWOMqQ+LgTHGGIuBMcYYi4ExxhgsBsYYY7AYGGOMwWJQO5JuG+GzVknaeVTPK4ukJdlUu2Y6sG9Pt29bDIwxxlgMmkLSdpLOkvQzSRdJOiLdP6dmIel1ko5PP58j6URJ50m6TNKfp/s3l/RuJYueXCjp5ZlHvTzzjAf0sOdx6SIYF0j6uaT5kg6R9H1JX08X4/iwpM3S8/9C0o/Se/+npO3S/Y+U9D1JKyR9K5O35pGSfiHpF8DLav7vNC3Cvj2ljHv6/bRtwG3pv1uQLj4B7EwyhV3AEuYuUPE64Pj08znAv6WfnwJ8J/38UuDLbFxQo5MSYBXw8vTzscDHe9j1NeCg9PN2qX2HAH8A7g9sDpwJPDO19/vAtun5byRJj7sl8ENgYbr/b4BPpp8vBA5OP78r+xu9Tcdm355u394C0xQC/kXSwcA9JPnEy+Sh/2r67wqSwgVwOEn+kw0AEXFDwfl/1eO+5wLvkXQq8NWIuEYSwHkRcQWApM8DjyUpRPsD56bnbAX8iGSlqQcDZ6b7NwfWKFn2b4dIFuAA+Azw5BK/1Uwm9u0pxGLQHEcDC4FHRsRdklYB25DkP882z23Tdd2d6b93U+7vU+r8iHiHpK+T1MrO1cb1WbuTUwVJYT8zIp6TPSDpIcAlEfGYrv07YGYJ+/YU4j6D5rgvsDYtLI8H9kr3Xw/somQ1q61JcqL340zg/0raApJFyqsaI+lPIuKiiDgR+CnQaYM9UNLeaXvq3wA/IFnK7yBJS9Nrt5W0L0kmxoWSHpPu31LSgyLiJuAmSY9N73l0VfvMRGHfnkIsBs1xKrBM0kXAC0hzjUfEXcAJJHnOz2RjDvJefBz4LXBh2on13AHseVWnk44kDW5nqb6fAv8BXApcCZwWEeuAFwKfT8//EfCAiPgjSbvriakdFwB/lt7nRcAHJF1AUvsy04t9ewpxCusZRtIhwOsiokwNzpiJwb5dHUcGxhhjHBlMG5JeBLyya/e5ETG946PNTGDfbhaLgTHGGDcTGWOMsRgYY4zBYmCMMQaLgTHGGOD/AxbEGJCL50c4AAAAAElFTkSuQmCC\n",
      "text/plain": [
       "<Figure size 432x288 with 2 Axes>"
      ]
     },
     "metadata": {
      "needs_background": "light"
     },
     "output_type": "display_data"
    }
   ],
   "source": [
    "# Filter to include home runs only\n",
    "judge_hr = judge.loc[judge['events'] == 'home_run']\n",
    "stanton_hr = stanton.loc[stanton['events'] == 'home_run']\n",
    "\n",
    "# Create a figure with two scatter plots of launch speed vs. launch angle, one for each player's home runs\n",
    "fig1, axs1 = plt.subplots(ncols=2, sharex=True, sharey=True)\n",
    "sns.regplot(x='launch_speed', y='launch_angle', fit_reg=False, color='tab:blue', data=judge_hr, ax=axs1[0]).set_title('Aaron Judge\\nHome Runs, 2015-2017')\n",
    "sns.regplot(x='launch_speed', y='launch_angle', fit_reg=False, color='tab:blue', data=stanton_hr, ax=axs1[1]).set_title('Giancarlo Stanton\\nHome Runs, 2015-2017')\n",
    "\n",
    "# Create a figure with two KDE plots of launch speed vs. launch angle, one for each player's home runs\n",
    "fig2, axs2 = plt.subplots(ncols=2, sharex=True, sharey=True)\n",
    "sns.kdeplot(judge_hr['launch_speed'], judge_hr['launch_angle'], cmap=\"Blues\", shade=True, shade_lowest=False, ax=axs2[0]).set_title('Aaron Judge\\nHome Runs, 2015-2017')\n",
    "sns.kdeplot(stanton_hr['launch_speed'], stanton_hr['launch_angle'], cmap=\"Blues\", shade=True, shade_lowest=False, ax=axs2[1]).set_title('Giancarlo Stanton\\nHome Runs, 2015-2017')"
   ]
  },
  {
   "cell_type": "markdown",
   "metadata": {
    "dc": {
     "key": "32"
    },
    "deletable": false,
    "editable": false,
    "run_control": {
     "frozen": true
    },
    "tags": [
     "context"
    ]
   },
   "source": [
    "## 5. Home runs by pitch velocity\n",
    "<p>It appears that Stanton hits his home runs slightly lower and slightly harder than Judge, though this needs to be taken with a grain of salt given the small sample size of home runs.</p>\n",
    "<p>Not only does Statcast measure the velocity of the ball coming off of the bat, it measures the velocity of the ball coming out of the pitcher's hand and begins its journey towards the plate. We can use this data to compare Stanton and Judge's home runs in terms of pitch velocity. Next you'll find box plots displaying the five-number summaries for each player: minimum, first quartile, median, third quartile, and maximum.</p>"
   ]
  },
  {
   "cell_type": "code",
   "execution_count": 5,
   "metadata": {
    "dc": {
     "key": "32"
    },
    "tags": [
     "sample_code"
    ]
   },
   "outputs": [
    {
     "data": {
      "text/plain": [
       "Text(0.5, 1.0, 'Home Runs, 2015-2017')"
      ]
     },
     "execution_count": 5,
     "metadata": {},
     "output_type": "execute_result"
    },
    {
     "data": {
      "image/png": "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\n",
      "text/plain": [
       "<Figure size 432x288 with 1 Axes>"
      ]
     },
     "metadata": {
      "needs_background": "light"
     },
     "output_type": "display_data"
    }
   ],
   "source": [
    "# Combine the Judge and Stanton home run DataFrames for easy boxplot plotting\n",
    "judge_stanton_hr = pd.concat([judge_hr, stanton_hr])\n",
    "\n",
    "# Create a boxplot that describes the pitch velocity of each player's home runs\n",
    "sns.boxplot(judge_stanton_hr['release_speed']).set_title('Home Runs, 2015-2017')"
   ]
  },
  {
   "cell_type": "markdown",
   "metadata": {
    "dc": {
     "key": "39"
    },
    "deletable": false,
    "editable": false,
    "run_control": {
     "frozen": true
    },
    "tags": [
     "context"
    ]
   },
   "source": [
    "## 6. Home runs by pitch location (I)\n",
    "<p>So Judge appears to hit his home runs off of faster pitches than Stanton. We might call Judge a fastball hitter. Stanton appears agnostic to pitch speed and likely pitch movement since slower pitches (e.g. curveballs, sliders, and changeups) tend to have more break. Statcast <em>does</em> track pitch movement and type but let's move on to something else: <strong>pitch location</strong>. Statcast tracks the zone the pitch is in when it crosses the plate. The zone numbering looks like this (from the catcher's point of view):</p>\n",
    "<p><img style=\"margin:5px 20px 5px 1px; width:20%;\" src=\"https://s3.amazonaws.com/assets.datacamp.com/production/project_250/img/zone.png\"></p>\n",
    "<p>We can plot this using a 2D histogram. For simplicity, let's only look at strikes, which gives us a 9x9 grid. We can view each zone as coordinates on a 2D plot, the bottom left corner being (1,1) and the top right corner being (3,3). Let's set up a function to assign x-coordinates to each pitch.</p>"
   ]
  },
  {
   "cell_type": "code",
   "execution_count": 6,
   "metadata": {
    "dc": {
     "key": "39"
    },
    "tags": [
     "sample_code"
    ]
   },
   "outputs": [],
   "source": [
    "def assign_x_coord(row):\n",
    "    \"\"\"\n",
    "    Assigns an x-coordinate to Statcast's strike zone numbers. Zones 11, 12, 13,\n",
    "    and 14 are ignored for plotting simplicity.\n",
    "    \"\"\"\n",
    "    # Left third of strike zone\n",
    "    if row.zone in [1, 4, 7]:\n",
    "        return 1\n",
    "    # Middle third of strike zone\n",
    "    if row.zone in [2, 5, 8]:\n",
    "        return 2\n",
    "    # Right third of strike zone\n",
    "    if row.zone in [3, 6, 9]:\n",
    "        return 3"
   ]
  },
  {
   "cell_type": "markdown",
   "metadata": {
    "dc": {
     "key": "46"
    },
    "deletable": false,
    "editable": false,
    "run_control": {
     "frozen": true
    },
    "tags": [
     "context"
    ]
   },
   "source": [
    "## 7. Home runs by pitch location (II)\n",
    "<p>And let's do the same but for y-coordinates.</p>"
   ]
  },
  {
   "cell_type": "code",
   "execution_count": 7,
   "metadata": {
    "dc": {
     "key": "46"
    },
    "tags": [
     "sample_code"
    ]
   },
   "outputs": [],
   "source": [
    "def assign_y_coord(row):\n",
    "    \"\"\"\n",
    "    Assigns a y-coordinate to Statcast's strike zone numbers. Zones 11, 12, 13,\n",
    "    and 14 are ignored for plotting simplicity.\n",
    "    \"\"\"\n",
    "    # Upper third of strike zone\n",
    "    if row.zone in (1, 2, 3):\n",
    "        return 3\n",
    "    # Middle third of strike zone\n",
    "    if row.zone in (4, 5, 6):\n",
    "        return 2\n",
    "    # Lower third of strike zone\n",
    "    if row.zone in (7, 8, 9):\n",
    "        return 1"
   ]
  },
  {
   "cell_type": "markdown",
   "metadata": {
    "dc": {
     "key": "53"
    },
    "deletable": false,
    "editable": false,
    "run_control": {
     "frozen": true
    },
    "tags": [
     "context"
    ]
   },
   "source": [
    "## 8. Aaron Judge's home run zone\n",
    "<p>Now we can apply the functions we've created then construct our 2D histograms. First, for Aaron Judge (again, for pitches in the strike zone that resulted in home runs).</p>"
   ]
  },
  {
   "cell_type": "code",
   "execution_count": 8,
   "metadata": {
    "dc": {
     "key": "53"
    },
    "tags": [
     "sample_code"
    ]
   },
   "outputs": [
    {
     "data": {
      "image/png": "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\n",
      "text/plain": [
       "<Figure size 432x288 with 2 Axes>"
      ]
     },
     "metadata": {
      "needs_background": "light"
     },
     "output_type": "display_data"
    }
   ],
   "source": [
    "# Zones 11, 12, 13, and 14 are to be ignored for plotting simplicity\n",
    "judge_strike_hr = judge_hr.copy().loc[judge_hr.zone <= 9]\n",
    "\n",
    "# Assign Cartesian coordinates to pitches in the strike zone for Judge home runs\n",
    "judge_strike_hr['zone_x'] = judge_strike_hr.apply(assign_x_coord, axis=1)\n",
    "judge_strike_hr['zone_y'] = judge_strike_hr.apply(assign_y_coord, axis=1)\n",
    "# Plot Judge's home run zone as a 2D histogram with a colorbar\n",
    "plt.hist2d(judge_strike_hr['zone_x'], judge_strike_hr['zone_y'], bins = 3, cmap='Blues')\n",
    "plt.title('Aaron Judge Home Runs on\\n Pitches in the Strike Zone, 2015-2017')\n",
    "plt.gca().get_xaxis().set_visible(False)\n",
    "plt.gca().get_yaxis().set_visible(False)\n",
    "cb = plt.colorbar()\n",
    "cb.set_label('Counts in Bin')"
   ]
  },
  {
   "cell_type": "markdown",
   "metadata": {
    "dc": {
     "key": "60"
    },
    "deletable": false,
    "editable": false,
    "run_control": {
     "frozen": true
    },
    "tags": [
     "context"
    ]
   },
   "source": [
    "## 9. Giancarlo Stanton's home run zone\n",
    "<p>And now for Giancarlo Stanton.</p>"
   ]
  },
  {
   "cell_type": "code",
   "execution_count": 10,
   "metadata": {
    "dc": {
     "key": "60"
    },
    "tags": [
     "sample_code"
    ]
   },
   "outputs": [
    {
     "data": {
      "image/png": "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\n",
      "text/plain": [
       "<Figure size 432x288 with 2 Axes>"
      ]
     },
     "metadata": {
      "needs_background": "light"
     },
     "output_type": "display_data"
    }
   ],
   "source": [
    "# Zones 11, 12, 13, and 14 are to be ignored for plotting simplicity\n",
    "stanton_strike_hr = stanton_hr.copy().loc[stanton_hr.zone <= 9]\n",
    "\n",
    "# Assign Cartesian coordinates to pitches in the strike zone for Stanton home runs\n",
    "\n",
    "stanton_strike_hr['zone_x'] = stanton_strike_hr.apply(assign_x_coord, axis=1)\n",
    "stanton_strike_hr['zone_y'] = stanton_strike_hr.apply(assign_y_coord, axis=1)\n",
    "\n",
    "# Plot Stanton's home run zone as a 2D histogram with a colorbar\n",
    "plt.hist2d(stanton_strike_hr['zone_x'], stanton_strike_hr['zone_y'], bins = 3, cmap='Blues')\n",
    "plt.title('Giancarlo Stanton Home Runs on\\n Pitches in the Strike Zone, 2015-2017')\n",
    "plt.gca().get_xaxis().set_visible(False)\n",
    "plt.gca().get_yaxis().set_visible(False)\n",
    "cb = plt.colorbar()\n",
    "cb.set_label('Counts in Bin')"
   ]
  },
  {
   "cell_type": "markdown",
   "metadata": {
    "dc": {
     "key": "67"
    },
    "deletable": false,
    "editable": false,
    "run_control": {
     "frozen": true
    },
    "tags": [
     "context"
    ]
   },
   "source": [
    "## 10. Should opposing pitchers be scared?\n",
    "<p>A few takeaways:</p>\n",
    "<ul>\n",
    "<li>Stanton does not hit many home runs on pitches in the upper third of the strike zone.</li>\n",
    "<li>Like pretty much every hitter ever, both players love pitches in the horizontal and vertical middle of the plate.</li>\n",
    "<li>Judge's least favorite home run pitch appears to be high-away while Stanton's appears to be low-away.</li>\n",
    "<li>If we were to describe Stanton's home run zone, it'd be middle-inside. Judge's home run zone is much more spread out.</li>\n",
    "</ul>\n",
    "<p>The grand takeaway from this whole exercise: Aaron Judge and Giancarlo Stanton are not identical despite their superficial similarities. In terms of home runs, their launch profiles, as well as their pitch speed and location preferences, are different.</p>\n",
    "<p>Should opposing pitchers still be scared?</p>"
   ]
  },
  {
   "cell_type": "code",
   "execution_count": 11,
   "metadata": {
    "dc": {
     "key": "67"
    },
    "tags": [
     "sample_code"
    ]
   },
   "outputs": [],
   "source": [
    "# Should opposing pitchers be wary of Aaron Judge and Giancarlo Stanton\n",
    "should_pitchers_be_scared = True"
   ]
  }
 ],
 "metadata": {
  "kernelspec": {
   "display_name": "Python 3",
   "language": "python",
   "name": "python3"
  },
  "language_info": {
   "codemirror_mode": {
    "name": "ipython",
    "version": 3
   },
   "file_extension": ".py",
   "mimetype": "text/x-python",
   "name": "python",
   "nbconvert_exporter": "python",
   "pygments_lexer": "ipython3",
   "version": "3.5.6"
  }
 },
 "nbformat": 4,
 "nbformat_minor": 2
}
